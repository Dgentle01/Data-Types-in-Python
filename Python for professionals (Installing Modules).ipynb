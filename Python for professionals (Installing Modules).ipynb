{
 "cells": [
  {
   "cell_type": "code",
   "execution_count": 3,
   "id": "90761a7b",
   "metadata": {},
   "outputs": [
    {
     "data": {
      "text/plain": [
       "\"'wow'\""
      ]
     },
     "execution_count": 3,
     "metadata": {},
     "output_type": "execute_result"
    }
   ],
   "source": [
    "x = 'wow'\n",
    "repr(x)"
   ]
  },
  {
   "cell_type": "code",
   "execution_count": 4,
   "id": "3058c16b",
   "metadata": {},
   "outputs": [
    {
     "data": {
      "text/plain": [
       "'wow'"
      ]
     },
     "execution_count": 4,
     "metadata": {},
     "output_type": "execute_result"
    }
   ],
   "source": [
    "str(x)"
   ]
  },
  {
   "cell_type": "code",
   "execution_count": 8,
   "id": "f39ad11e",
   "metadata": {},
   "outputs": [
    {
     "data": {
      "text/plain": [
       "'2023-05-30 13:49:24.684535'"
      ]
     },
     "execution_count": 8,
     "metadata": {},
     "output_type": "execute_result"
    }
   ],
   "source": [
    "import datetime\n",
    "time = datetime.datetime.now()\n",
    "str(time)"
   ]
  },
  {
   "cell_type": "code",
   "execution_count": 9,
   "id": "04a9b599",
   "metadata": {},
   "outputs": [
    {
     "data": {
      "text/plain": [
       "'datetime.datetime(2023, 5, 30, 13, 49, 24, 684535)'"
      ]
     },
     "execution_count": 9,
     "metadata": {},
     "output_type": "execute_result"
    }
   ],
   "source": [
    "repr(time)"
   ]
  },
  {
   "cell_type": "code",
   "execution_count": 11,
   "id": "d79c0a0b",
   "metadata": {},
   "outputs": [],
   "source": [
    "class Represent(object):\n",
    "    def __init__(self, x, y):\n",
    "        self.x, self.y = x, y\n",
    "    def __repr__(self):\n",
    "        return \"Represent(x={},y=\\\"{}\\\")\".format(self.x, self.y)\n",
    "    def __str__(self):\n",
    "        return \"Representing x as {} and y as {}\".format(self.x, self.y)"
   ]
  },
  {
   "cell_type": "code",
   "execution_count": 17,
   "id": "0ff6727a",
   "metadata": {},
   "outputs": [
    {
     "name": "stdout",
     "output_type": "stream",
     "text": [
      "(1, 'Hopper')\n",
      "<method-wrapper '__repr__' of tuple object at 0x000001DAD448A300>\n",
      "(1, 'Hopper')\n",
      "(1, 'Hopper')\n",
      "True\n"
     ]
    }
   ],
   "source": [
    "r = (1, \"Hopper\")\n",
    "print(r) # prints __str__\n",
    "print(r.__repr__) # prints __repr__: '<bound method Represent.__repr__ of Represent(x=1,y=\"Hopper\")>'\n",
    "rep = r.__repr__() # sets the execution of __repr__ to a new variable\n",
    "print(rep) # prints 'Represent(x=1,y=\"Hopper\")'\n",
    "r2 = eval(rep) # evaluates rep\n",
    "print(r2) # prints __str__ from new object\n",
    "print(r2 == r) # prints 'False' because they are different objects"
   ]
  },
  {
   "cell_type": "code",
   "execution_count": 19,
   "id": "2737c499",
   "metadata": {},
   "outputs": [
    {
     "name": "stdout",
     "output_type": "stream",
     "text": [
      "Representing x as 1 and y as Hopper\n",
      "<bound method Represent.__repr__ of Represent(x=1,y=\"Hopper\")>\n",
      "Represent(x=1,y=\"Hopper\")\n",
      "Representing x as 1 and y as Hopper\n",
      "False\n"
     ]
    }
   ],
   "source": [
    "r = Represent(1, \"Hopper\")\n",
    "print(r) # prints __str__\n",
    "print(r.__repr__) # prints __repr__: '<bound method Represent.__repr__ of Represent(x=1,y=\"Hopper\")>'\n",
    "rep = r.__repr__() # sets the execution of __repr__ to a new variable\n",
    "print(rep) # prints 'Represent(x=1,y=\"Hopper\")'\n",
    "r2 = eval(rep) # evaluates rep\n",
    "print(r2) # prints __str__ from new object\n",
    "print(r2 == r) # prints 'False' because they are different objects"
   ]
  },
  {
   "cell_type": "markdown",
   "id": "a0d50e2e",
   "metadata": {},
   "source": [
    "### Finding / installing a package\n"
   ]
  },
  {
   "cell_type": "raw",
   "id": "a03c7864",
   "metadata": {},
   "source": [
    "# Searching for a package is as simple as typing\n",
    "$ pip search <query>\n",
    "# Searches for packages whose name or summary contains <query>"
   ]
  },
  {
   "cell_type": "raw",
   "id": "8f5cb9be",
   "metadata": {},
   "source": [
    "$ pip install [package_name]              # latest version of the package\n",
    "$ pip install [package_name]==x.x.x       # specific version of the package\n",
    "$ pip install '[package_name]>=x.x.x'     # minimum version of the package"
   ]
  },
  {
   "cell_type": "code",
   "execution_count": null,
   "id": "c57df27d",
   "metadata": {},
   "outputs": [],
   "source": []
  }
 ],
 "metadata": {
  "kernelspec": {
   "display_name": "Python 3 (ipykernel)",
   "language": "python",
   "name": "python3"
  },
  "language_info": {
   "codemirror_mode": {
    "name": "ipython",
    "version": 3
   },
   "file_extension": ".py",
   "mimetype": "text/x-python",
   "name": "python",
   "nbconvert_exporter": "python",
   "pygments_lexer": "ipython3",
   "version": "3.9.12"
  }
 },
 "nbformat": 4,
 "nbformat_minor": 5
}
