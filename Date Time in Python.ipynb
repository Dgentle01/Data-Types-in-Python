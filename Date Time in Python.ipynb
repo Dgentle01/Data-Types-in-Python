{
 "cells": [
  {
   "cell_type": "code",
   "execution_count": 58,
   "id": "3e285b0a",
   "metadata": {},
   "outputs": [],
   "source": [
    "import dateutil.parser\n",
    "dt = dateutil.parser.parse(\"2016-04-15T08:27:18-0500\")"
   ]
  },
  {
   "cell_type": "markdown",
   "id": "8f2068dc",
   "metadata": {},
   "source": [
    "### Computing time differences\n",
    "the timedelta module comes in handy to compute differences between times"
   ]
  },
  {
   "cell_type": "code",
   "execution_count": 56,
   "id": "aeb90ce4",
   "metadata": {},
   "outputs": [],
   "source": [
    "import datetime\n",
    "from datetime import datetime, timedelta\n",
    "now = datetime.now()\n",
    "then = datetime(2016, 5, 23)"
   ]
  },
  {
   "cell_type": "code",
   "execution_count": 49,
   "id": "5f327c13",
   "metadata": {},
   "outputs": [],
   "source": [
    "# Specifying time is optional when creating a new datetime object\n",
    "delta = now-then"
   ]
  },
  {
   "cell_type": "code",
   "execution_count": 53,
   "id": "bb461a54",
   "metadata": {},
   "outputs": [
    {
     "name": "stdout",
     "output_type": "stream",
     "text": [
      "2563\n",
      "54181\n"
     ]
    }
   ],
   "source": [
    "print(delta.days)\n",
    "print(delta.seconds)"
   ]
  },
  {
   "cell_type": "markdown",
   "id": "a8e327a0",
   "metadata": {},
   "source": [
    "To get n day's after and n day's before date we could use:<br>\n",
    "<b>n day's after date:</b>"
   ]
  },
  {
   "cell_type": "code",
   "execution_count": 64,
   "id": "136de0c0",
   "metadata": {},
   "outputs": [
    {
     "data": {
      "text/plain": [
       "'27 September 2023'"
      ]
     },
     "execution_count": 64,
     "metadata": {},
     "output_type": "execute_result"
    }
   ],
   "source": [
    "import datetime\n",
    "def get_n_days_after_date(date_format=\"%d %B %Y\", add_days=120):\n",
    "    date_n_days_after = datetime.datetime.now() + timedelta(days=add_days)\n",
    "    return date_n_days_after.strftime(date_format)\n",
    "get_n_days_after_date()\n",
    "\n",
    "\n",
    "# gives the next 120days date_month_year from today"
   ]
  },
  {
   "cell_type": "markdown",
   "id": "42057474",
   "metadata": {},
   "source": [
    "<b> n day's before date </b>"
   ]
  },
  {
   "cell_type": "code",
   "execution_count": 70,
   "id": "1482818b",
   "metadata": {},
   "outputs": [
    {
     "data": {
      "text/plain": [
       "'30 January 2023'"
      ]
     },
     "execution_count": 70,
     "metadata": {},
     "output_type": "execute_result"
    }
   ],
   "source": [
    "def get_n_days_before_date(self, date_format=\"%d %B %Y\", days_before=120):\n",
    "    \n",
    "    date_n_days_ago = datetime.datetime.now() - timedelta(days=days_before)\n",
    "    \n",
    "    return date_n_days_ago.strftime(date_format)\n",
    "\n",
    "get_n_days_before_date('seyi')"
   ]
  },
  {
   "cell_type": "markdown",
   "id": "67446189",
   "metadata": {},
   "source": [
    "### Basic datetime objects usage"
   ]
  },
  {
   "cell_type": "code",
   "execution_count": 85,
   "id": "8accef62",
   "metadata": {},
   "outputs": [
    {
     "name": "stdout",
     "output_type": "stream",
     "text": [
      "2023-05-30\n",
      "2023-01-01\n",
      "12:00:00\n",
      "2023-05-30 15:35:29.025161\n",
      "2000-01-01 00:00:00\n"
     ]
    }
   ],
   "source": [
    "import datetime\n",
    "\n",
    "# Date object\n",
    "today = datetime.date.today() #current date without time\n",
    "print(today)\n",
    "\n",
    "new_year = datetime.date(2023, 1, 1)\n",
    "print(new_year)\n",
    "\n",
    "# Time object\n",
    "noon = datetime.time(12, 0, 0)\n",
    "print(noon)\n",
    "\n",
    "# Current datetime\n",
    "now = datetime.datetime.now()  #time and date\n",
    "print(now)\n",
    "\n",
    "# Datetime object\n",
    "millenium_turn = datetime.datetime(2000, 1, 1, 0, 0, 0) \n",
    "print(millenium_turn)"
   ]
  },
  {
   "cell_type": "code",
   "execution_count": 87,
   "id": "5f371172",
   "metadata": {},
   "outputs": [
    {
     "name": "stdout",
     "output_type": "stream",
     "text": [
      "Time since the millenium at midnight:  8550 days, 0:00:00\n",
      "Time since the millenium at noon:  8550 days, 12:00:00\n"
     ]
    }
   ],
   "source": [
    "# subtraction of noon from today\n",
    "\n",
    "print('Time since the millenium at midnight: ',\n",
    "datetime.datetime(today.year, today.month, today.day) - millenium_turn)\n",
    "\n",
    "# Or this\n",
    "print('Time since the millenium at noon: ',\n",
    "datetime.datetime.combine(today, noon) - millenium_turn)"
   ]
  },
  {
   "cell_type": "markdown",
   "id": "549b33da",
   "metadata": {},
   "source": [
    "### Switching between time zones\n",
    "To switch between time zones, you need datetime objects that are timezone-aware"
   ]
  },
  {
   "cell_type": "code",
   "execution_count": 90,
   "id": "5742c6d6",
   "metadata": {},
   "outputs": [
    {
     "name": "stdout",
     "output_type": "stream",
     "text": [
      "2023-05-30 14:41:14.428497\n",
      "2023-05-30 14:41:14.428497+00:00\n",
      "2023-05-30 15:41:14.428497+01:00\n"
     ]
    }
   ],
   "source": [
    "from datetime import datetime\n",
    "from dateutil import tz\n",
    "\n",
    "utc = tz.tzutc()\n",
    "local = tz.tzlocal()\n",
    "\n",
    "utc_now = datetime.utcnow()\n",
    "\n",
    "print(utc_now) # Not timezone-aware.\n",
    "\n",
    "utc_now = utc_now.replace(tzinfo=utc)\n",
    "\n",
    "print(utc_now) # Timezone-aware.\n",
    "\n",
    "local_now = utc_now.astimezone(local)\n",
    "\n",
    "print(local_now) # Converted to your local time"
   ]
  },
  {
   "cell_type": "markdown",
   "id": "a91fca88",
   "metadata": {},
   "source": [
    "### Simple date arithmetic\n",
    "Dates don't exist in isolation. It is common that you will need to find the amount of time between dates or\n",
    "determine what the date will be tomorrow. This can be accomplished using timedelta object"
   ]
  },
  {
   "cell_type": "code",
   "execution_count": 91,
   "id": "2825d04b",
   "metadata": {},
   "outputs": [
    {
     "name": "stdout",
     "output_type": "stream",
     "text": [
      "Today: 2023-05-30\n",
      "Yesterday: 2023-05-29\n",
      "Tomorrow: 2023-05-31\n",
      "Time between tomorrow and yesterday: 2 days, 0:00:00\n"
     ]
    }
   ],
   "source": [
    "import datetime\n",
    "today = datetime.date.today()\n",
    "print('Today:', today)\n",
    "yesterday = today - datetime.timedelta(days=1)\n",
    "print('Yesterday:', yesterday)\n",
    "tomorrow = today + datetime.timedelta(days=1)\n",
    "print('Tomorrow:', tomorrow)\n",
    "print('Time between tomorrow and yesterday:', tomorrow - yesterday)"
   ]
  },
  {
   "cell_type": "markdown",
   "id": "a60e443f",
   "metadata": {},
   "source": [
    "### Converting timestamp to datetime\n",
    "The datetime module can convert a POSIX timestamp to a ITC datetime object.\n",
    "\n",
    "The Epoch is January 1st, 1970 midnight."
   ]
  },
  {
   "cell_type": "code",
   "execution_count": 99,
   "id": "d38075c9",
   "metadata": {},
   "outputs": [
    {
     "name": "stdout",
     "output_type": "stream",
     "text": [
      "1685458340.21071\n",
      "2023-05-30 14:52:20.210710\n"
     ]
    }
   ],
   "source": [
    "import time\n",
    "from datetime import datetime\n",
    "seconds_since_epoch=time.time() #1469182681.709\n",
    "utc_date=datetime.utcfromtimestamp(seconds_since_epoch) \n",
    "print(seconds_since_epoch)\n",
    "print(utc_date)"
   ]
  },
  {
   "cell_type": "markdown",
   "id": "39e5de28",
   "metadata": {},
   "source": [
    "### Subtracting months from a date accurately\n",
    "Using the calendar module"
   ]
  },
  {
   "cell_type": "code",
   "execution_count": 122,
   "id": "0d394dc5",
   "metadata": {},
   "outputs": [
    {
     "name": "stdout",
     "output_type": "stream",
     "text": [
      "2023-02-28 00:00:00\n"
     ]
    }
   ],
   "source": [
    "import datetime\n",
    "import dateutil.relativedelta\n",
    "d = datetime.datetime.strptime(\"2023-03-31\", \"%Y-%m-%d\")\n",
    "d2 = d - dateutil.relativedelta.relativedelta(months=1) #subtracts by 1 month\n",
    "print(d2)"
   ]
  },
  {
   "cell_type": "markdown",
   "id": "a408847b",
   "metadata": {},
   "source": [
    "### Get an ISO 8601 timestamp"
   ]
  },
  {
   "cell_type": "code",
   "execution_count": 123,
   "id": "1846ff3f",
   "metadata": {},
   "outputs": [
    {
     "data": {
      "text/plain": [
       "'2023-05-30T16:11:42.755885'"
      ]
     },
     "execution_count": 123,
     "metadata": {},
     "output_type": "execute_result"
    }
   ],
   "source": [
    "from datetime import datetime\n",
    "datetime.now().isoformat()"
   ]
  },
  {
   "cell_type": "markdown",
   "id": "f7b1b83a",
   "metadata": {},
   "source": [
    "#### Without timezone, with microseconds"
   ]
  },
  {
   "cell_type": "code",
   "execution_count": 126,
   "id": "4faf724e",
   "metadata": {},
   "outputs": [
    {
     "data": {
      "text/plain": [
       "'2023-05-30T16:15:25.665642'"
      ]
     },
     "execution_count": 126,
     "metadata": {},
     "output_type": "execute_result"
    }
   ],
   "source": [
    "from datetime import datetime\n",
    "datetime.now().isoformat()"
   ]
  },
  {
   "cell_type": "markdown",
   "id": "126cc447",
   "metadata": {},
   "source": [
    "#### With timezone, with microseconds"
   ]
  },
  {
   "cell_type": "code",
   "execution_count": 124,
   "id": "b925e8a5",
   "metadata": {},
   "outputs": [
    {
     "data": {
      "text/plain": [
       "'2023-05-30T16:14:47.586721+01:00'"
      ]
     },
     "execution_count": 124,
     "metadata": {},
     "output_type": "execute_result"
    }
   ],
   "source": [
    "from datetime import datetime\n",
    "from dateutil.tz import tzlocal\n",
    "datetime.now(tzlocal()).isoformat()"
   ]
  },
  {
   "cell_type": "markdown",
   "id": "98b69b9c",
   "metadata": {},
   "source": [
    "#### With timezone, without microseconds"
   ]
  },
  {
   "cell_type": "code",
   "execution_count": 125,
   "id": "4e934989",
   "metadata": {},
   "outputs": [
    {
     "data": {
      "text/plain": [
       "'2023-05-30T16:15:17+01:00'"
      ]
     },
     "execution_count": 125,
     "metadata": {},
     "output_type": "execute_result"
    }
   ],
   "source": [
    "from datetime import datetime\n",
    "from dateutil.tz import tzlocal\n",
    "datetime.now(tzlocal()).replace(microsecond=0).isoformat()"
   ]
  },
  {
   "cell_type": "markdown",
   "id": "037f2ef0",
   "metadata": {},
   "source": [
    "### Fuzzy datetime parsing (extracting datetime out of a text)\n",
    "It is possible to extract a date out of a text using the dateutil parser in a \"fuzzy\" mode, where components of the string not recognized as being part of a date are ignored"
   ]
  },
  {
   "cell_type": "code",
   "execution_count": 138,
   "id": "ad26eb76",
   "metadata": {},
   "outputs": [
    {
     "name": "stdout",
     "output_type": "stream",
     "text": [
      "2047-01-01 08:21:00\n",
      "8616 days, 15:56:55.969859\n"
     ]
    }
   ],
   "source": [
    "import datetime\n",
    "from dateutil.parser import parse\n",
    "dt = parse(\"Today is January 1, 2047 at 8:21:00AM\", fuzzy=True)\n",
    "print(dt)\n",
    "dts = dt - datetime.datetime.today()\n",
    "print(dts)"
   ]
  },
  {
   "cell_type": "markdown",
   "id": "18a780ad",
   "metadata": {},
   "source": [
    "### Iterate over dates\n",
    "Sometimes you want to iterate over a range of dates from a start date to some end date. You can do it using\n",
    "datetime library and timedelta object:"
   ]
  },
  {
   "cell_type": "code",
   "execution_count": 148,
   "id": "1c57fb6d",
   "metadata": {},
   "outputs": [
    {
     "name": "stdout",
     "output_type": "stream",
     "text": [
      "1 day, 0:00:00\n",
      "start_date: 2023-05-30\n",
      "end_date: 2023-06-06\n",
      "2023-05-30\n",
      "2023-05-31\n",
      "2023-06-01\n",
      "2023-06-02\n",
      "2023-06-03\n",
      "2023-06-04\n",
      "2023-06-05\n"
     ]
    }
   ],
   "source": [
    "import datetime\n",
    "# The size of each step in days\n",
    "day_delta = datetime.timedelta(days=1)\n",
    "print(day_delta)\n",
    "start_date = datetime.date.today()  #current date \n",
    "print('start_date:', start_date)\n",
    "end_date = start_date + 7*day_delta  #current date + 7*1\n",
    "print('end_date:', end_date)\n",
    "for i in range((end_date - start_date).days):\n",
    "    print(start_date + i*day_delta)  \n",
    "#iterates over the date frmo the start_date 7 times"
   ]
  },
  {
   "cell_type": "markdown",
   "id": "42a95c7d",
   "metadata": {},
   "source": [
    "### Time between two date-times"
   ]
  },
  {
   "cell_type": "code",
   "execution_count": 157,
   "id": "32f627f3",
   "metadata": {},
   "outputs": [
    {
     "name": "stdout",
     "output_type": "stream",
     "text": [
      "135 days, 23:59:59\n",
      "days dif: 135\n",
      "secs dif: 11750399.0\n"
     ]
    }
   ],
   "source": [
    "from datetime import datetime\n",
    "a = datetime(2023,10,12,23,59,59)\n",
    "b = datetime(2023,5,30,0,0,0)\n",
    "a-b\n",
    "print(a-b)\n",
    "days = (a-b).days\n",
    "print('days dif:', days)\n",
    "secs = (a-b).total_seconds()\n",
    "print('secs dif:', secs)"
   ]
  },
  {
   "cell_type": "markdown",
   "id": "966c396a",
   "metadata": {},
   "source": [
    "### Outputting datetime object to string"
   ]
  },
  {
   "cell_type": "code",
   "execution_count": 160,
   "id": "692b0fac",
   "metadata": {},
   "outputs": [
    {
     "data": {
      "text/plain": [
       "'Oct 13 2023, 00:00:00'"
      ]
     },
     "execution_count": 160,
     "metadata": {},
     "output_type": "execute_result"
    }
   ],
   "source": [
    "from datetime import datetime\n",
    "datetime_for_string = datetime(2023,10,13,0,0)\n",
    "datetime_string_format = '%b %d %Y, %H:%M:%S'\n",
    "datetime.strftime(datetime_for_string,datetime_string_format)\n",
    "# Oct 13 2023, 00:00:00"
   ]
  },
  {
   "cell_type": "markdown",
   "id": "69c2c92f",
   "metadata": {},
   "source": [
    "### Parsing string to datetime object"
   ]
  },
  {
   "cell_type": "code",
   "execution_count": 164,
   "id": "6919604a",
   "metadata": {},
   "outputs": [
    {
     "data": {
      "text/plain": [
       "datetime.datetime(2023, 10, 13, 0, 0)"
      ]
     },
     "execution_count": 164,
     "metadata": {},
     "output_type": "execute_result"
    }
   ],
   "source": [
    "from datetime import datetime\n",
    "datetime_string = 'Oct 13 2023, 00:00:00'\n",
    "datetime_string_format = '%b %d %Y, %H:%M:%S'\n",
    "datetime.strptime(datetime_string, datetime_string_format)\n",
    "# datetime.datetime(2023, 10, 13, 0, 0)"
   ]
  },
  {
   "cell_type": "code",
   "execution_count": null,
   "id": "019c8f8d",
   "metadata": {},
   "outputs": [],
   "source": []
  }
 ],
 "metadata": {
  "kernelspec": {
   "display_name": "Python 3 (ipykernel)",
   "language": "python",
   "name": "python3"
  },
  "language_info": {
   "codemirror_mode": {
    "name": "ipython",
    "version": 3
   },
   "file_extension": ".py",
   "mimetype": "text/x-python",
   "name": "python",
   "nbconvert_exporter": "python",
   "pygments_lexer": "ipython3",
   "version": "3.9.12"
  }
 },
 "nbformat": 4,
 "nbformat_minor": 5
}
