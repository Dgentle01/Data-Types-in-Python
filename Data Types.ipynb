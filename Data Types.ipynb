{
 "cells": [
  {
   "cell_type": "markdown",
   "id": "38254ac1",
   "metadata": {},
   "source": [
    "# Python Data Types\n",
    "Data types are nothing but variables you use to reserve some space in memory. Python variables do not need an\n",
    "explicit declaration to reserve memory space. The declaration happens automatically when you assign a value to a\n",
    "variable."
   ]
  },
  {
   "cell_type": "markdown",
   "id": "5af9186f",
   "metadata": {},
   "source": [
    "## String Data Type\n",
    "String are identified as a contiguous set of characters represented in the quotation marks. Python allows for either\n",
    "pairs of single or double quotes. Strings are immutable sequence data type, i.e each time one makes any changes\n",
    "to a string, completely new string object is created."
   ]
  },
  {
   "cell_type": "code",
   "execution_count": null,
   "id": "67849581",
   "metadata": {},
   "outputs": [],
   "source": [
    "a_str = 'Hello World'\n",
    "print(a_str) #output will be whole string. Hello World\n",
    "print(a_str[0]) #output will be first character. H\n",
    "print(a_str[0:5]) #output will be first five characters. Hello\n"
   ]
  },
  {
   "cell_type": "markdown",
   "id": "0d4ca7b4",
   "metadata": {},
   "source": [
    "## Set Data Types\n",
    "Sets are unordered collections of unique objects, there are two types of set:\n",
    "1. <h4> Sets</h4> - They are mutable and new elements can be added once sets are defined"
   ]
  },
  {
   "cell_type": "code",
   "execution_count": null,
   "id": "079bb9b5",
   "metadata": {},
   "outputs": [],
   "source": [
    "basket = {'apple', 'orange', 'apple', 'pear', 'orange', 'banana'}\n",
    "print(basket) # duplicates will be removed\n",
    "> {'orange', 'banana', 'pear', 'apple'}\n",
    "a = set('abracadabra')\n",
    "print(a) # unique letters in a\n",
    "> {'a', 'r', 'b', 'c', 'd'}\n",
    "a.add('z')\n",
    "print(a)\n",
    "> {'a', 'c', 'r', 'b', 'z', 'd'}"
   ]
  },
  {
   "cell_type": "markdown",
   "id": "aa01f21b",
   "metadata": {},
   "source": [
    "2. <h4>Frozen Sets </h4> - They are immutable and new elements cannot added after its defined."
   ]
  },
  {
   "cell_type": "code",
   "execution_count": null,
   "id": "d9de2028",
   "metadata": {},
   "outputs": [],
   "source": [
    "b = frozenset('asdfagsa')\n",
    "print(b)\n",
    "> frozenset({'f', 'g', 'd', 'a', 's'})\n",
    "cities = frozenset([\"Frankfurt\", \"Basel\",\"Freiburg\"])\n",
    "print(cities)\n",
    "> frozenset({'Frankfurt', 'Basel', 'Freiburg'})"
   ]
  },
  {
   "cell_type": "markdown",
   "id": "db3a2c82",
   "metadata": {},
   "source": [
    "## Numbers data type\n",
    "Numbers have four types in Python. Int, float, complex, and long"
   ]
  },
  {
   "cell_type": "code",
   "execution_count": null,
   "id": "9711193e",
   "metadata": {},
   "outputs": [],
   "source": [
    "int_num = 10 #int value\n",
    "float_num = 10.2 #float value\n",
    "complex_num = 3.14j #complex value\n",
    "long_num = 1234567L #long value"
   ]
  },
  {
   "cell_type": "markdown",
   "id": "80b434ec",
   "metadata": {},
   "source": [
    "## List Data Type\n",
    "A list contains items separated by commas and enclosed within square brackets [].lists are almost similar to arrays\n",
    "in C. One difference is that all the items belonging to a list can be of different data type."
   ]
  },
  {
   "cell_type": "code",
   "execution_count": null,
   "id": "11d50bb3",
   "metadata": {},
   "outputs": [],
   "source": [
    "list = [123,'abcd',10.2,'d'] #can be an array of any data type or single data type.\n",
    "list1 = ['hello','world']\n",
    "print(list) #will output whole list. [123,'abcd',10.2,'d']\n",
    "print(list[0:2]) #will output first two element of list. [123,'abcd']\n",
    "print(list1 * 2) #will gave list1 two times. ['hello','world','hello','world']\n",
    "print(list + list1) #will gave concatenation of both the lists.\n",
    "[123,'abcd',10.2,'d','hello','world']"
   ]
  },
  {
   "cell_type": "markdown",
   "id": "c62cf71e",
   "metadata": {},
   "source": [
    "## Dictionary Data Type\n",
    "Dictionary consists of key-value pairs. It is enclosed by curly braces {} and values can be assigned and accessed\n",
    "using square brackets[].\n"
   ]
  },
  {
   "cell_type": "code",
   "execution_count": null,
   "id": "b294ba2e",
   "metadata": {},
   "outputs": [],
   "source": [
    "dic={'name':'red','age':10}\n",
    "print(dic) #will output all the key-value pairs. {'name':'red','age':10}\n",
    "print(dic['name']) #will output only value with 'name' key. 'red'\n",
    "print(dic.values()) #will output list of values in dic. ['red',10]\n",
    "print(dic.keys()) #will output list of keys. ['name','age']"
   ]
  },
  {
   "cell_type": "markdown",
   "id": "2dcb803a",
   "metadata": {},
   "source": [
    "## Tuple Data Type\n",
    "Lists are enclosed in brackets [ ] and their elements and size can be changed, while tuples are enclosed in\n",
    "parentheses ( ) and cannot be updated. Tuples are immutable."
   ]
  },
  {
   "cell_type": "code",
   "execution_count": null,
   "id": "cbde14d6",
   "metadata": {},
   "outputs": [],
   "source": [
    "tuple = (123,'hello')\n",
    "tuple1 = ('world')\n",
    "print(tuple) #will output whole tuple. (123,'hello')\n",
    "print(tuple[0]) #will output first value. (123)\n",
    "print(tuple + tuple1) #will output (123,'hello','world')\n",
    "tuple[1]='update' #this will give you error."
   ]
  },
  {
   "cell_type": "code",
   "execution_count": null,
   "id": "5c1cdbdd",
   "metadata": {},
   "outputs": [],
   "source": []
  }
 ],
 "metadata": {
  "kernelspec": {
   "display_name": "Python 3 (ipykernel)",
   "language": "python",
   "name": "python3"
  },
  "language_info": {
   "codemirror_mode": {
    "name": "ipython",
    "version": 3
   },
   "file_extension": ".py",
   "mimetype": "text/x-python",
   "name": "python",
   "nbconvert_exporter": "python",
   "pygments_lexer": "ipython3",
   "version": "3.9.12"
  }
 },
 "nbformat": 4,
 "nbformat_minor": 5
}
