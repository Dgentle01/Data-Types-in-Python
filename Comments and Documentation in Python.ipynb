{
 "cells": [
  {
   "cell_type": "markdown",
   "id": "c4ac7ba8",
   "metadata": {},
   "source": [
    "## Single line, inline and multiline comments\n",
    "Comments are used to explain code when the basic code itself isn't clear.\n",
    "Python ignores comments, and so will not execute code in there, or raise syntax errors for plain English sentences."
   ]
  },
  {
   "cell_type": "markdown",
   "id": "adc3f82c",
   "metadata": {},
   "source": [
    "<b>Single-line comments</b> begin with the hash character (#) and are terminated by the end of line.\n",
    "Single line comment:\n",
    "  #This is a single line comment in Python<br>\n",
    "<b>Inline comment:</b><br>\n",
    "print(\"Hello World\") # This line prints \"Hello World\" <br><br>\n",
    "Comments spanning multiple lines have \"\"\" or ''' on either end.<br>This is the same as a multiline string, but\n",
    "they can be used as comments:\n",
    "\"\"\"<br><br>\n",
    "\"\"\"\n",
    "This type of comment spans multiple lines.\n",
    "These are mostly used for documentation of functions, classes and modules.\n",
    "\"\"\" <br><br>\n",
    "\n",
    "<b> Docstrings</b> are - unlike regular comments - stored as an attribute of the function they document, meaning that you\n",
    "can access them programmatically."
   ]
  },
  {
   "cell_type": "code",
   "execution_count": 22,
   "id": "dce8e2ed",
   "metadata": {},
   "outputs": [
    {
     "name": "stdout",
     "output_type": "stream",
     "text": [
      "Help on function greet in module __main__:\n",
      "\n",
      "greet(name, greeting='Hello')\n",
      "    Print a greeting to the user `name`\n",
      "    Optional parameter `greeting` can change what they're greeted with.\n",
      "\n"
     ]
    }
   ],
   "source": [
    "def greet(name, greeting=\"Hello\"):\n",
    "    \"\"\"Print a greeting to the user `name`\n",
    "    Optional parameter `greeting` can change what they're greeted with.\"\"\"\n",
    "    print(\"{} {}\".format(greeting, name))\n",
    "help(greet)"
   ]
  },
  {
   "cell_type": "markdown",
   "id": "daeca70f",
   "metadata": {},
   "source": [
    "### Write documentation using docstrings"
   ]
  },
  {
   "cell_type": "code",
   "execution_count": 25,
   "id": "d8e672b7",
   "metadata": {},
   "outputs": [
    {
     "name": "stdout",
     "output_type": "stream",
     "text": [
      "Hello Seyi\n"
     ]
    }
   ],
   "source": [
    "def hello(name):\n",
    "    \"\"\"Greet someone.\n",
    "    Print a greeting (\"Hello\") for the person with the given name.\n",
    "    \"\"\"\n",
    "    name = 'Seyi'\n",
    "print(\"Hello \"+name)\n",
    "class Greeter:\n",
    "    \"\"\"An object used to greet people.\n",
    "    It contains multiple greeting functions for several languages\n",
    "    and times of the day.\n",
    "    \"\"\""
   ]
  },
  {
   "cell_type": "code",
   "execution_count": 33,
   "id": "ed7f2859",
   "metadata": {},
   "outputs": [],
   "source": [
    "def hello(name, language=\"en\"):\n",
    "    \n",
    "    \"\"\"Say hello to a person.\n",
    "    :param name: the name of the person\n",
    "    :type name: str\n",
    "    :param language: the language in which the person should be greeted\n",
    "    :type language: str\n",
    "    :return: a number\n",
    "    :rtype: int\n",
    "    \"\"\"\n",
    "\n",
    "    print(greeting[language]+\" \"+name)\n",
    "    return 4"
   ]
  },
  {
   "cell_type": "code",
   "execution_count": null,
   "id": "523a579b",
   "metadata": {},
   "outputs": [],
   "source": []
  }
 ],
 "metadata": {
  "kernelspec": {
   "display_name": "Python 3 (ipykernel)",
   "language": "python",
   "name": "python3"
  },
  "language_info": {
   "codemirror_mode": {
    "name": "ipython",
    "version": 3
   },
   "file_extension": ".py",
   "mimetype": "text/x-python",
   "name": "python",
   "nbconvert_exporter": "python",
   "pygments_lexer": "ipython3",
   "version": "3.9.12"
  }
 },
 "nbformat": 4,
 "nbformat_minor": 5
}
